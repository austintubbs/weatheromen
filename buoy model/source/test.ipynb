{
 "cells": [
  {
   "cell_type": "code",
   "execution_count": 1,
   "metadata": {},
   "outputs": [
    {
     "name": "stdout",
     "output_type": "stream",
     "text": [
      "Waimea Buoy data loaded in 50.9 seconds\n",
      "Waimea Buoy wave heights calculated in 0.1 seconds\n",
      "Hanalei Buoy data loaded in 50.6 seconds\n",
      "Hanalei Buoy wave heights calculated in 0.1 seconds\n",
      "Buoy 1 data loaded in 2.8 seconds\n"
     ]
    }
   ],
   "source": [
    "from CDIPbuoy import CDIPbuoy \n",
    "from NOAAbuoy import NOAAbuoy\n",
    "# from buoy import buoy \n",
    "import buoyPlots\n",
    "import oahuForecast\n",
    "# How many days of data to plot backwards in time\n",
    "plotTimeDays = 2\n",
    "\n",
    "# Initialize Buoys\n",
    "wBuoy = CDIPbuoy(\"Waimea Buoy\",106,-10) #Name, Station Number, and Local Time Offset in Hours\n",
    "hBuoy = CDIPbuoy(\"Hanalei Buoy\",202,-10) #Name, Station Number, and Local Time Offset in Hours\n",
    "buoy1 = NOAAbuoy(\"Buoy 1\",51001,-10) #Name, Station Number, and Local Time Offset in Hours\n",
    "# Load data and calculate wave heights\n",
    "wBuoy.loadNetCDF(plotTimeDays)\n",
    "wBuoy.calcWaveHeight()\n",
    "hBuoy.loadNetCDF(plotTimeDays)\n",
    "hBuoy.calcWaveHeight()\n",
    "buoy1.loadData(plotTimeDays)\n",
    "\n",
    "# Make buoy plots\n",
    "buoyPlots.heightPerDir(wBuoy)\n",
    "buoyPlots.polarHeatMap(wBuoy)\n",
    "buoyPlots.plotNineBands(wBuoy)\n",
    "\n",
    "buoyPlots.heightPerDir(hBuoy)\n",
    "buoyPlots.polarHeatMap(hBuoy)\n",
    "buoyPlots.plotNineBands(hBuoy)\n",
    "\n",
    "oahuForecast.forecast(wBuoy,hBuoy,buoy1)\n"
   ]
  },
  {
   "cell_type": "code",
   "execution_count": null,
   "metadata": {},
   "outputs": [],
   "source": []
  }
 ],
 "metadata": {
  "kernelspec": {
   "display_name": "Python 3",
   "language": "python",
   "name": "python3"
  },
  "language_info": {
   "codemirror_mode": {
    "name": "ipython",
    "version": 3
   },
   "file_extension": ".py",
   "mimetype": "text/x-python",
   "name": "python",
   "nbconvert_exporter": "python",
   "pygments_lexer": "ipython3",
   "version": "3.6.5"
  }
 },
 "nbformat": 4,
 "nbformat_minor": 2
}
